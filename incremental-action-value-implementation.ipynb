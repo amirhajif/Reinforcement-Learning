{
 "cells": [
  {
   "cell_type": "code",
   "execution_count": 1,
   "metadata": {},
   "outputs": [
    {
     "name": "stdout",
     "output_type": "stream",
     "text": [
      "True rewards: [0.2, 0.5, 0.8]\n",
      "Estimated values: [0.20833333 0.53571429 0.79794521]\n"
     ]
    }
   ],
   "source": [
    "import numpy as np\n",
    "k = 3\n",
    "\n",
    "true_rewards = [0.2, 0.5, 0.8]\n",
    "\n",
    "Q = np.zeros(k)  \n",
    "N = np.zeros(k)\n",
    "\n",
    "episodes = 1000\n",
    "\n",
    "epsilon = 0.1\n",
    "\n",
    "for episode in range(episodes):\n",
    "    \n",
    "    if np.random.rand() < epsilon:\n",
    "        action = np.random.choice(k)\n",
    "    else:\n",
    "        action = np.argmax(Q)\n",
    "\n",
    "\n",
    "    reward = np.random.binomial(1, true_rewards[action])\n",
    "\n",
    "\n",
    "    N[action] += 1\n",
    "    Q[action] += (1 / N[action]) * (reward - Q[action])\n",
    "\n",
    "print(\"True rewards:\", true_rewards)\n",
    "print(\"Estimated values:\", Q)"
   ]
  }
 ],
 "metadata": {
  "kernelspec": {
   "display_name": "venv",
   "language": "python",
   "name": "python3"
  },
  "language_info": {
   "codemirror_mode": {
    "name": "ipython",
    "version": 3
   },
   "file_extension": ".py",
   "mimetype": "text/x-python",
   "name": "python",
   "nbconvert_exporter": "python",
   "pygments_lexer": "ipython3",
   "version": "3.10.7"
  }
 },
 "nbformat": 4,
 "nbformat_minor": 2
}
