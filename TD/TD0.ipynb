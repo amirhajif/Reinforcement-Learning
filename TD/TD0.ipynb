{
 "cells": [
  {
   "cell_type": "code",
   "execution_count": 1,
   "metadata": {},
   "outputs": [
    {
     "name": "stdout",
     "output_type": "stream",
     "text": [
      "Value of A: 0.20\n",
      "Value of B: 0.19\n",
      "Value of C: 0.10\n",
      "Value of D: 0.00\n",
      "Value of Terminal: 0.00\n"
     ]
    }
   ],
   "source": [
    "import numpy as np\n",
    "\n",
    "class TD:\n",
    "    def __init__(self, states, alpha=0.1, gamma=0.9):\n",
    "        \"\"\"\n",
    "        Initialize the TD(0) algorithm.\n",
    "        :param states: List of all possible states.\n",
    "        :param alpha: Learning rate.\n",
    "        :param gamma: Discount factor.\n",
    "        \"\"\"\n",
    "        self.states = states\n",
    "        self.alpha = alpha\n",
    "        self.gamma = gamma\n",
    "        self.V = {state: 0 for state in states}  # Initialize value function\n",
    "\n",
    "    def update(self, state, reward, next_state):\n",
    "        \"\"\"\n",
    "        Perform a single TD(0) update.\n",
    "        :param state: Current state.\n",
    "        :param reward: Reward received after transitioning from the current state.\n",
    "        :param next_state: Next state.\n",
    "        \"\"\"\n",
    "        td_target = reward + self.gamma * self.V[next_state]  # TD target\n",
    "        td_error = td_target - self.V[state]  # TD error\n",
    "        self.V[state] += self.alpha * td_error  # Update value\n",
    "\n",
    "    def get_value(self, state):\n",
    "        \"\"\"\n",
    "        Get the value of a state.\n",
    "        :param state: The state for which the value is requested.\n",
    "        :return: Value of the state.\n",
    "        \"\"\"\n",
    "        return self.V.get(state, 0)\n",
    "\n",
    "# Example Usage\n",
    "if __name__ == \"__main__\":\n",
    "    # Define states\n",
    "    states = ['A', 'B', 'C', 'D', 'Terminal']\n",
    "\n",
    "    # Initialize TD(0) agent\n",
    "    td_agent = TD(states)\n",
    "\n",
    "    # Simulate episodes\n",
    "    episodes = [\n",
    "        [('A', 1, 'B'), ('B', 1, 'C'), ('C', 1, 'Terminal')],\n",
    "        [('A', 1, 'B'), ('B', 1, 'Terminal')],\n",
    "    ]\n",
    "\n",
    "    for episode in episodes:\n",
    "        for state, reward, next_state in episode:\n",
    "            td_agent.update(state, reward, next_state)\n",
    "\n",
    "    # Print the learned value function\n",
    "    for state in states:\n",
    "        print(f\"Value of {state}: {td_agent.get_value(state):.2f}\")"
   ]
  }
 ],
 "metadata": {
  "kernelspec": {
   "display_name": "venv",
   "language": "python",
   "name": "python3"
  },
  "language_info": {
   "codemirror_mode": {
    "name": "ipython",
    "version": 3
   },
   "file_extension": ".py",
   "mimetype": "text/x-python",
   "name": "python",
   "nbconvert_exporter": "python",
   "pygments_lexer": "ipython3",
   "version": "3.10.7"
  }
 },
 "nbformat": 4,
 "nbformat_minor": 2
}
